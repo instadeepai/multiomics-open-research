{
 "cells": [
  {
   "cell_type": "code",
   "execution_count": null,
   "id": "73468e8d-6490-4832-a340-9d1dd949c379",
   "metadata": {},
   "outputs": [],
   "source": [
    "import haiku as hk\n",
    "import jax\n",
    "import jax.numpy as jnp\n",
    "import pandas as pd\n",
    "\n",
    "from multiomics_open_research.bulk_rna_bert.downstream.pretrained import get_pretrained_downstream_model\n",
    "from multiomics_open_research.bulk_rna_bert.preprocess import preprocess_rna_seq_for_bulkrnabert"
   ]
  },
  {
   "cell_type": "code",
   "execution_count": null,
   "id": "39058d94-69bf-472a-8fd3-2eb99808a2a3",
   "metadata": {},
   "outputs": [],
   "source": [
    "parameters, forward_fn, tokenizer, config, mlm_config = get_pretrained_downstream_model(\n",
    "    model_name=\"tcga_5_cohorts\",\n",
    "    checkpoint_directory=\"../checkpoints/\",\n",
    ")\n",
    "forward_fn = hk.transform(forward_fn)"
   ]
  },
  {
   "cell_type": "code",
   "execution_count": null,
   "id": "9ba580b5-f557-42db-942f-7e8be3a80f8e",
   "metadata": {},
   "outputs": [],
   "source": [
    "# Get bulk RNASeq data and tokenize it\n",
    "rna_seq_df = pd.read_csv(\"../data/tcga_sample.csv\")\n",
    "rna_seq_array = preprocess_rna_seq_for_bulkrnabert(rna_seq_df, mlm_config)\n",
    "tokens_ids = tokenizer.batch_tokenize(rna_seq_array)\n",
    "tokens = jnp.asarray(tokens_ids, dtype=jnp.int32)"
   ]
  },
  {
   "cell_type": "code",
   "execution_count": null,
   "id": "80ae8393-9035-4e85-8bcb-46ffefd6bf93",
   "metadata": {},
   "outputs": [],
   "source": [
    "# Inference\n",
    "random_key = jax.random.PRNGKey(0)\n",
    "outs = forward_fn.apply(parameters, random_key, tokens[:1])"
   ]
  },
  {
   "cell_type": "code",
   "execution_count": null,
   "id": "a9b6287d-b722-4585-bd81-8b8bd59a7c69",
   "metadata": {},
   "outputs": [],
   "source": [
    "with open(\"../data/5_cohorts_labels_mapping.json\", \"r\") as f:\n",
    "    label_mapping = json.load(f)\n",
    "\n",
    "predicted_cancer_type = label_mapping[outs[\"logits\"].argmax()]\n",
    "print(f\"Cancer type prediction {predicted_cancer_type}\")"
   ]
  }
 ],
 "metadata": {
  "kernelspec": {
   "display_name": "Python 3 (ipykernel)",
   "language": "python",
   "name": "python3"
  },
  "language_info": {
   "codemirror_mode": {
    "name": "ipython",
    "version": 3
   },
   "file_extension": ".py",
   "mimetype": "text/x-python",
   "name": "python",
   "nbconvert_exporter": "python",
   "pygments_lexer": "ipython3",
   "version": "3.10.14"
  }
 },
 "nbformat": 4,
 "nbformat_minor": 5
}
